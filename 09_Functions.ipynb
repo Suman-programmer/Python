{
 "cells": [
  {
   "cell_type": "markdown",
   "metadata": {},
   "source": [
    "# Functions\n",
    "- Definition\n",
    "- Use of function\n",
    "- How to write functions\n",
    "- How to call functions\n",
    "- Mandatory/Non-mandatory , Optional, keyworded, non-keyworded argument\n",
    "- Handling multiple arguments (KW and non-KW)\n",
    "- Scope of variables\n",
    "- Global variable"
   ]
  },
  {
   "cell_type": "code",
   "execution_count": 3,
   "metadata": {},
   "outputs": [],
   "source": [
    "def prod1(a,b):\n",
    "    print(a*b)"
   ]
  },
  {
   "cell_type": "code",
   "execution_count": 5,
   "metadata": {},
   "outputs": [
    {
     "name": "stdout",
     "output_type": "stream",
     "text": [
      "200\n",
      "None\n"
     ]
    }
   ],
   "source": [
    "print(prod1(10,20))"
   ]
  },
  {
   "cell_type": "code",
   "execution_count": 6,
   "metadata": {},
   "outputs": [],
   "source": [
    "def prod1(a,b):\n",
    "    print(a*b)\n",
    "    return(a*b)"
   ]
  },
  {
   "cell_type": "code",
   "execution_count": 7,
   "metadata": {},
   "outputs": [
    {
     "name": "stdout",
     "output_type": "stream",
     "text": [
      "200\n",
      "200\n"
     ]
    }
   ],
   "source": [
    "print(prod1(10,20))"
   ]
  },
  {
   "cell_type": "code",
   "execution_count": 8,
   "metadata": {},
   "outputs": [],
   "source": [
    "def prod1(a,b):\n",
    "    return(a*b)"
   ]
  },
  {
   "cell_type": "code",
   "execution_count": 10,
   "metadata": {},
   "outputs": [
    {
     "name": "stdout",
     "output_type": "stream",
     "text": [
      "200\n"
     ]
    }
   ],
   "source": [
    "x = prod1(10,20)\n",
    "print(x)"
   ]
  },
  {
   "cell_type": "code",
   "execution_count": 11,
   "metadata": {},
   "outputs": [
    {
     "name": "stdout",
     "output_type": "stream",
     "text": [
      "30\n"
     ]
    }
   ],
   "source": [
    "def test1(a,b):\n",
    "    print(a+b)\n",
    "test1(10,20)"
   ]
  },
  {
   "cell_type": "markdown",
   "metadata": {},
   "source": [
    "# default value"
   ]
  },
  {
   "cell_type": "code",
   "execution_count": 13,
   "metadata": {},
   "outputs": [
    {
     "name": "stdout",
     "output_type": "stream",
     "text": [
      "40\n"
     ]
    }
   ],
   "source": [
    "def test1(a,b=20): # a will be no default and b will be default \n",
    "    print(a+b)\n",
    "# test1(10)\n",
    "test1(10,30)"
   ]
  },
  {
   "cell_type": "code",
   "execution_count": 19,
   "metadata": {},
   "outputs": [
    {
     "name": "stdout",
     "output_type": "stream",
     "text": [
      "Hello 10\n"
     ]
    }
   ],
   "source": [
    "def test1(a,b):\n",
    "    print(a+str(b))\n",
    "test1(\"Hello \",10)\n",
    "# test1(10,\"Hello \")\n",
    "# test1(b=10,a=\"Hello \")"
   ]
  },
  {
   "cell_type": "code",
   "execution_count": 21,
   "metadata": {},
   "outputs": [
    {
     "name": "stdout",
     "output_type": "stream",
     "text": [
      "Hello a\n",
      "Hello j\n",
      "Hello s\n",
      "Hello h\n",
      "Hello h\n",
      "Hello a\n",
      "Hello 1\n",
      "Hello 2\n",
      "Hello 6\n",
      "Hello 6\n",
      "Hello 5\n",
      "Hello 2\n",
      "Hello 4\n",
      "Hello 5\n",
      "Hello 6\n"
     ]
    }
   ],
   "source": [
    "for i in \"ajshha126652456\":\n",
    "    test1(\"Hello \",i)"
   ]
  },
  {
   "cell_type": "markdown",
   "metadata": {},
   "source": [
    "# Multiple arguments"
   ]
  },
  {
   "cell_type": "code",
   "execution_count": 25,
   "metadata": {},
   "outputs": [
    {
     "name": "stdout",
     "output_type": "stream",
     "text": [
      "10\n",
      "20\n",
      "(30, 40, 50)\n",
      "80\n"
     ]
    }
   ],
   "source": [
    "def test2(a,b,*arg): # arg is just a variable name, * is to denote multiarg\n",
    "    print(a)\n",
    "    print(b)\n",
    "    print(arg)\n",
    "    print(a+b+arg[::-1][0])\n",
    "# test2(10,20,30)\n",
    "test2(10,20,30,40,50)"
   ]
  },
  {
   "cell_type": "code",
   "execution_count": 27,
   "metadata": {},
   "outputs": [
    {
     "name": "stdout",
     "output_type": "stream",
     "text": [
      "10\n",
      "20\n",
      "{'x': 10, 'y': -10, 'z': 90}\n",
      "20\n"
     ]
    }
   ],
   "source": [
    "def test2(a,b,**kwarg): # kwarg is just a variable name, ** is to denote multi kwarg\n",
    "    print(a)\n",
    "    print(b)\n",
    "    print(kwarg)\n",
    "    print(a+b+kwarg[\"y\"])\n",
    "test2(10,20,x=10,y=-10,z=90)"
   ]
  },
  {
   "cell_type": "code",
   "execution_count": 29,
   "metadata": {},
   "outputs": [
    {
     "name": "stdout",
     "output_type": "stream",
     "text": [
      "10\n",
      "20\n",
      "(1, 2, 3, 4)\n",
      "{'x': 10, 'y': -10, 'z': 90}\n",
      "21\n"
     ]
    }
   ],
   "source": [
    "def test2(a,b,*arg,**kwarg): # kwarg is just a variable name, ** is to denote multi kwarg\n",
    "    print(a)\n",
    "    print(b)\n",
    "    print(arg)\n",
    "    print(kwarg)\n",
    "    print(a+b+arg[0]+kwarg[\"y\"])\n",
    "test2(10,20,1,2,3,4,x=10,y=-10,z=90)"
   ]
  },
  {
   "cell_type": "code",
   "execution_count": 35,
   "metadata": {},
   "outputs": [
    {
     "name": "stdout",
     "output_type": "stream",
     "text": [
      "{'pow': 8, 'prod': 6}\n",
      "[5, -1]\n"
     ]
    }
   ],
   "source": [
    "def multiReturn(a,b):\n",
    "    return({\"pow\":a**b,\"prod\":a*b},[a+b,a-b])\n",
    "op1,op2 = multiReturn(2,3)\n",
    "print(op1)\n",
    "print(op2)"
   ]
  },
  {
   "cell_type": "code",
   "execution_count": 42,
   "metadata": {},
   "outputs": [
    {
     "name": "stdout",
     "output_type": "stream",
     "text": [
      "<class 'tuple'>\n"
     ]
    },
    {
     "data": {
      "text/plain": [
       "8"
      ]
     },
     "execution_count": 42,
     "metadata": {},
     "output_type": "execute_result"
    }
   ],
   "source": [
    "def multiReturn(a,b):\n",
    "    return a**b,a+b\n",
    "print(type(multiReturn(2,3)))\n",
    "x,y = multiReturn(2,3)\n",
    "x"
   ]
  },
  {
   "cell_type": "code",
   "execution_count": null,
   "metadata": {},
   "outputs": [],
   "source": []
  }
 ],
 "metadata": {
  "kernelspec": {
   "display_name": "Python 3",
   "language": "python",
   "name": "python3"
  },
  "language_info": {
   "codemirror_mode": {
    "name": "ipython",
    "version": 3
   },
   "file_extension": ".py",
   "mimetype": "text/x-python",
   "name": "python",
   "nbconvert_exporter": "python",
   "pygments_lexer": "ipython3",
   "version": "3.7.3"
  },
  "latex_envs": {
   "LaTeX_envs_menu_present": true,
   "autoclose": false,
   "autocomplete": true,
   "bibliofile": "biblio.bib",
   "cite_by": "apalike",
   "current_citInitial": 1,
   "eqLabelWithNumbers": true,
   "eqNumInitial": 1,
   "hotkeys": {
    "equation": "Ctrl-E",
    "itemize": "Ctrl-I"
   },
   "labels_anchors": false,
   "latex_user_defs": false,
   "report_style_numbering": false,
   "user_envs_cfg": false
  },
  "varInspector": {
   "cols": {
    "lenName": 16,
    "lenType": 16,
    "lenVar": 40
   },
   "kernels_config": {
    "python": {
     "delete_cmd_postfix": "",
     "delete_cmd_prefix": "del ",
     "library": "var_list.py",
     "varRefreshCmd": "print(var_dic_list())"
    },
    "r": {
     "delete_cmd_postfix": ") ",
     "delete_cmd_prefix": "rm(",
     "library": "var_list.r",
     "varRefreshCmd": "cat(var_dic_list()) "
    }
   },
   "types_to_exclude": [
    "module",
    "function",
    "builtin_function_or_method",
    "instance",
    "_Feature"
   ],
   "window_display": false
  }
 },
 "nbformat": 4,
 "nbformat_minor": 2
}
