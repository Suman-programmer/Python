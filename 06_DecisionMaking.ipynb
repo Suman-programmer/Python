{
 "cells": [
  {
   "cell_type": "markdown",
   "metadata": {},
   "source": [
    "# Decision Making\n",
    "- Definition\n",
    "- if else statement\n",
    "- nested if else statement"
   ]
  },
  {
   "cell_type": "code",
   "execution_count": null,
   "metadata": {},
   "outputs": [],
   "source": [
    "# if <condition1> and <condition2> and .... :\n",
    "#     <statement1>\n",
    "#     <statement2>\n",
    "#     .\n",
    "#     .\n",
    "# else : # This is optional\n",
    "#     <statement1>\n",
    "#     <statement2>\n",
    "#     .\n",
    "#     .    \n"
   ]
  },
  {
   "cell_type": "code",
   "execution_count": null,
   "metadata": {},
   "outputs": [],
   "source": [
    "# if <condition1> and <condition2> and .... :\n",
    "#     <statement1>\n",
    "#     <statement2>\n",
    "#     .\n",
    "#     .\n",
    "# elif <condition1> and <condition2> and .... :\n",
    "#     <statement1>\n",
    "#     <statement2>\n",
    "#     .\n",
    "#     .    \n",
    "# else : # This is optional\n",
    "#     <statement1>\n",
    "#     <statement2>\n",
    "#     .\n",
    "#     . "
   ]
  },
  {
   "cell_type": "code",
   "execution_count": 1,
   "metadata": {},
   "outputs": [
    {
     "name": "stdout",
     "output_type": "stream",
     "text": [
      "h is there\n"
     ]
    }
   ],
   "source": [
    "a = \"python\"\n",
    "if \"h\" in a:\n",
    "    print(\"h is there\")\n",
    "else:\n",
    "    print(\"I am in else\")"
   ]
  },
  {
   "cell_type": "code",
   "execution_count": 2,
   "metadata": {},
   "outputs": [
    {
     "name": "stdout",
     "output_type": "stream",
     "text": [
      "y is there\n"
     ]
    }
   ],
   "source": [
    "a = \"python\"\n",
    "if \"x\" in a:\n",
    "    print(\"x is there\")\n",
    "elif \"y\" in a:\n",
    "    print(\"y is there\")\n",
    "else:\n",
    "    print(\"I am in else\")"
   ]
  },
  {
   "cell_type": "code",
   "execution_count": 3,
   "metadata": {},
   "outputs": [
    {
     "name": "stdout",
     "output_type": "stream",
     "text": [
      "I am in else\n"
     ]
    }
   ],
   "source": [
    "a = \"python\"\n",
    "if \"x\" in a:\n",
    "    print(\"x is there\")\n",
    "elif \"z\" in a:\n",
    "    print(\"z is there\")\n",
    "else:\n",
    "    print(\"I am in else\")"
   ]
  },
  {
   "cell_type": "code",
   "execution_count": 4,
   "metadata": {},
   "outputs": [
    {
     "name": "stdout",
     "output_type": "stream",
     "text": [
      "t and n both are there\n"
     ]
    }
   ],
   "source": [
    "a = \"python\"\n",
    "if \"t\" in a:\n",
    "    if \"n\" in a:\n",
    "        print(\"t and n both are there\")\n",
    "elif \"y\" in a:\n",
    "    print(\"y is there\")\n",
    "else:\n",
    "    print(\"I am in else\")"
   ]
  },
  {
   "cell_type": "code",
   "execution_count": 5,
   "metadata": {},
   "outputs": [
    {
     "name": "stdout",
     "output_type": "stream",
     "text": [
      "h is there\n"
     ]
    }
   ],
   "source": [
    "a = \"python\"\n",
    "if \"1\" in a:\n",
    "    if \"n\" in a:\n",
    "        print(\"t and n both are there\")\n",
    "elif \"2\" in a:\n",
    "    print(\"y is there\")\n",
    "elif \"h\" in a:\n",
    "    print(\"h is there\")\n",
    "else:\n",
    "    print(\"I am in else\")"
   ]
  },
  {
   "cell_type": "code",
   "execution_count": 7,
   "metadata": {},
   "outputs": [
    {
     "name": "stdout",
     "output_type": "stream",
     "text": [
      "I am in else\n"
     ]
    }
   ],
   "source": [
    "a = 10\n",
    "b = 30\n",
    "if (a > b):\n",
    "    print(a+b)\n",
    "else:\n",
    "    print(\"I am in else\")\n"
   ]
  },
  {
   "cell_type": "code",
   "execution_count": 8,
   "metadata": {},
   "outputs": [
    {
     "name": "stdout",
     "output_type": "stream",
     "text": [
      "40\n"
     ]
    }
   ],
   "source": [
    "a = 10\n",
    "b = 30\n",
    "if (a <= b):\n",
    "    print(a+b)\n",
    "else:\n",
    "    print(\"I am in else\")\n"
   ]
  },
  {
   "cell_type": "code",
   "execution_count": null,
   "metadata": {},
   "outputs": [],
   "source": []
  },
  {
   "cell_type": "code",
   "execution_count": null,
   "metadata": {},
   "outputs": [],
   "source": []
  },
  {
   "cell_type": "code",
   "execution_count": null,
   "metadata": {},
   "outputs": [],
   "source": []
  },
  {
   "cell_type": "code",
   "execution_count": null,
   "metadata": {},
   "outputs": [],
   "source": []
  },
  {
   "cell_type": "code",
   "execution_count": null,
   "metadata": {},
   "outputs": [],
   "source": []
  }
 ],
 "metadata": {
  "kernelspec": {
   "display_name": "Python 3",
   "language": "python",
   "name": "python3"
  },
  "language_info": {
   "codemirror_mode": {
    "name": "ipython",
    "version": 3
   },
   "file_extension": ".py",
   "mimetype": "text/x-python",
   "name": "python",
   "nbconvert_exporter": "python",
   "pygments_lexer": "ipython3",
   "version": "3.7.3"
  }
 },
 "nbformat": 4,
 "nbformat_minor": 2
}
