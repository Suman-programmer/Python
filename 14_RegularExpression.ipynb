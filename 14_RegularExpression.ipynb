{
 "cells": [
  {
   "cell_type": "markdown",
   "metadata": {},
   "source": [
    "# Regular Expressions\n",
    "- Definition\n",
    "- Match Vs Search\n",
    "- Substitute substrings\n",
    "- Find all\n",
    "- Meta Vs Literal characters\n",
    "- Various identifiers\n",
    "- Back referencing example\n",
    "- Exercise"
   ]
  },
  {
   "cell_type": "code",
   "execution_count": 1,
   "metadata": {},
   "outputs": [],
   "source": [
    "import re"
   ]
  },
  {
   "cell_type": "code",
   "execution_count": 2,
   "metadata": {},
   "outputs": [],
   "source": [
    "a = \"This is Learnbay class5\""
   ]
  },
  {
   "cell_type": "markdown",
   "metadata": {},
   "source": [
    "### match"
   ]
  },
  {
   "cell_type": "code",
   "execution_count": 3,
   "metadata": {},
   "outputs": [
    {
     "name": "stdout",
     "output_type": "stream",
     "text": [
      "None\n"
     ]
    }
   ],
   "source": [
    "mObj = re.match(\"Learnbay\",a)\n",
    "print(mObj)\n",
    "if mObj:\n",
    "    print(mObj.group())\n",
    "#     print(mObj.groups())\n",
    "#     print(mObj.group(1))"
   ]
  },
  {
   "cell_type": "code",
   "execution_count": 15,
   "metadata": {},
   "outputs": [
    {
     "name": "stdout",
     "output_type": "stream",
     "text": [
      "This is Learnbay\n",
      "()\n"
     ]
    }
   ],
   "source": [
    "mObj = re.match(\"This is Learnbay\",a)\n",
    "# print(mObj)\n",
    "if mObj:\n",
    "    print(mObj.group())\n",
    "    print(mObj.groups())\n",
    "#     print(mObj.group(2))"
   ]
  },
  {
   "cell_type": "code",
   "execution_count": 13,
   "metadata": {},
   "outputs": [
    {
     "name": "stdout",
     "output_type": "stream",
     "text": [
      "This is Learnbay\n",
      "('This', 'Learnbay')\n",
      "Learnbay\n"
     ]
    }
   ],
   "source": [
    "mObj = re.match(\"(This) is (Learnbay)\",a)\n",
    "# print(mObj)\n",
    "if mObj:\n",
    "    print(mObj.group())\n",
    "    print(mObj.groups())\n",
    "    print(mObj.group(2))"
   ]
  },
  {
   "cell_type": "markdown",
   "metadata": {},
   "source": [
    "# Search"
   ]
  },
  {
   "cell_type": "code",
   "execution_count": 16,
   "metadata": {},
   "outputs": [],
   "source": [
    "a = \"This is Learnbay class5\""
   ]
  },
  {
   "cell_type": "code",
   "execution_count": 18,
   "metadata": {},
   "outputs": [
    {
     "name": "stdout",
     "output_type": "stream",
     "text": [
      "Learnbay\n"
     ]
    }
   ],
   "source": [
    "sObj = re.search(\"Learnbay\",a)\n",
    "if sObj:\n",
    "    print(sObj.group())\n",
    "#     print(sObj.groups())\n",
    "#     print(sObj.group(1))"
   ]
  },
  {
   "cell_type": "code",
   "execution_count": 20,
   "metadata": {},
   "outputs": [
    {
     "name": "stdout",
     "output_type": "stream",
     "text": [
      "Learnbay\n"
     ]
    }
   ],
   "source": [
    "sObj = re.search(\"LeaRNbay\",a,re.I)\n",
    "if sObj:\n",
    "    print(sObj.group())\n",
    "#     print(sObj.groups())\n",
    "#     print(sObj.group(1))"
   ]
  },
  {
   "cell_type": "code",
   "execution_count": 21,
   "metadata": {},
   "outputs": [
    {
     "name": "stdout",
     "output_type": "stream",
     "text": [
      "Learnbay\n"
     ]
    }
   ],
   "source": [
    "sObj = re.search(\"LEaRNbay\",a,re.I)\n",
    "if sObj:\n",
    "    print(sObj.group())\n",
    "#     print(sObj.groups())\n",
    "#     print(sObj.group(1))"
   ]
  },
  {
   "cell_type": "markdown",
   "metadata": {},
   "source": [
    "# Substitute"
   ]
  },
  {
   "cell_type": "code",
   "execution_count": 22,
   "metadata": {},
   "outputs": [],
   "source": [
    "a = \"This is Learnbay LeARNbay LearnbAY LeaRNbay class5\""
   ]
  },
  {
   "cell_type": "code",
   "execution_count": 23,
   "metadata": {},
   "outputs": [
    {
     "data": {
      "text/plain": [
       "'This is LEARNBAY LeARNbay LearnbAY LeaRNbay class5'"
      ]
     },
     "execution_count": 23,
     "metadata": {},
     "output_type": "execute_result"
    }
   ],
   "source": [
    "re.sub(\"Learnbay\",\"LEARNBAY\",a)"
   ]
  },
  {
   "cell_type": "code",
   "execution_count": 24,
   "metadata": {},
   "outputs": [
    {
     "data": {
      "text/plain": [
       "'This is LEARNBAY LEARNBAY LEARNBAY LEARNBAY class5'"
      ]
     },
     "execution_count": 24,
     "metadata": {},
     "output_type": "execute_result"
    }
   ],
   "source": [
    "re.sub(\"Learnbay\",\"LEARNBAY\",a,flags=re.I)"
   ]
  },
  {
   "cell_type": "code",
   "execution_count": 25,
   "metadata": {},
   "outputs": [
    {
     "data": {
      "text/plain": [
       "'This is LEARNBAY LEARNBAY LEARNBAY LeaRNbay class5'"
      ]
     },
     "execution_count": 25,
     "metadata": {},
     "output_type": "execute_result"
    }
   ],
   "source": [
    "re.sub(\"Learnbay\",\"LEARNBAY\",a,count=3,flags=re.I)"
   ]
  },
  {
   "cell_type": "markdown",
   "metadata": {},
   "source": [
    "# Findall"
   ]
  },
  {
   "cell_type": "code",
   "execution_count": 22,
   "metadata": {},
   "outputs": [],
   "source": [
    "a = \"This is Learnbay LeARNbay LearnbAY LeaRNbay class5\""
   ]
  },
  {
   "cell_type": "code",
   "execution_count": 27,
   "metadata": {},
   "outputs": [
    {
     "data": {
      "text/plain": [
       "['Learnbay', 'LeARNbay', 'LearnbAY', 'LeaRNbay']"
      ]
     },
     "execution_count": 27,
     "metadata": {},
     "output_type": "execute_result"
    }
   ],
   "source": [
    "re.findall(\"Learnbay\",a,flags=re.I)"
   ]
  },
  {
   "cell_type": "code",
   "execution_count": 28,
   "metadata": {},
   "outputs": [
    {
     "data": {
      "text/plain": [
       "4"
      ]
     },
     "execution_count": 28,
     "metadata": {},
     "output_type": "execute_result"
    }
   ],
   "source": [
    "len(re.findall(\"Learnbay\",a,flags=re.I))"
   ]
  },
  {
   "cell_type": "markdown",
   "metadata": {},
   "source": [
    "# Search"
   ]
  },
  {
   "cell_type": "code",
   "execution_count": 43,
   "metadata": {},
   "outputs": [],
   "source": [
    "a = \"This is at bat cat chat brat class\\n123\""
   ]
  },
  {
   "cell_type": "code",
   "execution_count": 36,
   "metadata": {},
   "outputs": [
    {
     "name": "stdout",
     "output_type": "stream",
     "text": [
      " at\n"
     ]
    }
   ],
   "source": [
    "sObj = re.search(\".?at\",a)\n",
    "if sObj:\n",
    "    print(sObj.group())\n",
    "#     print(sObj.groups())\n",
    "#     print(sObj.group(1))"
   ]
  },
  {
   "cell_type": "code",
   "execution_count": 33,
   "metadata": {},
   "outputs": [
    {
     "name": "stdout",
     "output_type": "stream",
     "text": [
      "bat\n"
     ]
    }
   ],
   "source": [
    "sObj = re.search(\".at\",a)\n",
    "if sObj:\n",
    "    print(sObj.group())\n",
    "#     print(sObj.groups())\n",
    "#     print(sObj.group(1))"
   ]
  },
  {
   "cell_type": "code",
   "execution_count": 42,
   "metadata": {},
   "outputs": [
    {
     "name": "stdout",
     "output_type": "stream",
     "text": [
      "chat\n"
     ]
    }
   ],
   "source": [
    "sObj = re.search(\"[bc].at\",a)\n",
    "if sObj:\n",
    "    print(sObj.group())\n",
    "#     print(sObj.groups())\n",
    "#     print(sObj.group(1))"
   ]
  },
  {
   "cell_type": "code",
   "execution_count": 39,
   "metadata": {},
   "outputs": [
    {
     "name": "stdout",
     "output_type": "stream",
     "text": [
      "s at\n"
     ]
    }
   ],
   "source": [
    "sObj = re.search(\"..at\",a)\n",
    "if sObj:\n",
    "    print(sObj.group())\n",
    "#     print(sObj.groups())\n",
    "#     print(sObj.group(1))"
   ]
  },
  {
   "cell_type": "code",
   "execution_count": 46,
   "metadata": {},
   "outputs": [
    {
     "name": "stdout",
     "output_type": "stream",
     "text": [
      "class\n",
      "\n"
     ]
    }
   ],
   "source": [
    "sObj = re.search(\"class.\",a,re.S) # re.S or re.DOTALL, to include \\n as well in .\n",
    "if sObj:\n",
    "    print(sObj.group())\n",
    "#     print(sObj.groups())\n",
    "#     print(sObj.group(1))"
   ]
  },
  {
   "cell_type": "code",
   "execution_count": 48,
   "metadata": {},
   "outputs": [],
   "source": [
    "a = \"This is at bat cat chat brat class\\n123\""
   ]
  },
  {
   "cell_type": "code",
   "execution_count": 49,
   "metadata": {},
   "outputs": [
    {
     "name": "stdout",
     "output_type": "stream",
     "text": [
      "class\n",
      "1\n"
     ]
    }
   ],
   "source": [
    "sObj = re.search(\"class.\\d\",a,re.S) # re.S or re.DOTALL, to include \\n as well in .\n",
    "if sObj:\n",
    "    print(sObj.group())\n",
    "#     print(sObj.groups())\n",
    "#     print(sObj.group(1))"
   ]
  },
  {
   "cell_type": "code",
   "execution_count": 50,
   "metadata": {},
   "outputs": [
    {
     "name": "stdout",
     "output_type": "stream",
     "text": [
      "class\n",
      "123\n"
     ]
    }
   ],
   "source": [
    "sObj = re.search(\"class.\\d\\d\\d\",a,re.S) # re.S or re.DOTALL, to include \\n as well in .\n",
    "if sObj:\n",
    "    print(sObj.group())\n",
    "#     print(sObj.groups())\n",
    "#     print(sObj.group(1))"
   ]
  },
  {
   "cell_type": "code",
   "execution_count": 52,
   "metadata": {},
   "outputs": [],
   "source": [
    "sObj = re.search(\"class.\\d{4}\",a,re.S) # re.S or re.DOTALL, to include \\n as well in .\n",
    "if sObj:\n",
    "    print(sObj.group())\n",
    "#     print(sObj.groups())\n",
    "#     print(sObj.group(1))"
   ]
  },
  {
   "cell_type": "code",
   "execution_count": 53,
   "metadata": {},
   "outputs": [
    {
     "name": "stdout",
     "output_type": "stream",
     "text": [
      "class\n",
      "123\n"
     ]
    }
   ],
   "source": [
    "sObj = re.search(\"class.\\d{2,3}\",a,re.S) # re.S or re.DOTALL, to include \\n as well in .\n",
    "if sObj:\n",
    "    print(sObj.group())\n",
    "#     print(sObj.groups())\n",
    "#     print(sObj.group(1))"
   ]
  },
  {
   "cell_type": "code",
   "execution_count": 69,
   "metadata": {},
   "outputs": [],
   "source": [
    "a = \"This is at bat cat chat brat class\\n123456789\""
   ]
  },
  {
   "cell_type": "code",
   "execution_count": 59,
   "metadata": {},
   "outputs": [
    {
     "name": "stdout",
     "output_type": "stream",
     "text": [
      "class\n",
      "123456\n"
     ]
    }
   ],
   "source": [
    "sObj = re.search(\"class.\\d{2,6}\",a,re.S) # re.S or re.DOTALL, to include \\n as well in .\n",
    "if sObj:\n",
    "    print(sObj.group())\n",
    "#     print(sObj.groups())\n",
    "#     print(sObj.group(1))"
   ]
  },
  {
   "cell_type": "code",
   "execution_count": 70,
   "metadata": {},
   "outputs": [
    {
     "name": "stdout",
     "output_type": "stream",
     "text": [
      "class\n",
      "123456\n"
     ]
    }
   ],
   "source": [
    "sObj = re.search(\"class.\\d{2,6}\",a,re.S) # re.S or re.DOTALL, to include \\n as well in .\n",
    "if sObj:\n",
    "    print(sObj.group())\n",
    "#     print(sObj.groups())\n",
    "#     print(sObj.group(1))"
   ]
  },
  {
   "cell_type": "code",
   "execution_count": 79,
   "metadata": {},
   "outputs": [],
   "source": [
    "a = \"shdfhsdJAHSDJAS746234&@#^%@%#&hsgfhsgdf2135432\""
   ]
  },
  {
   "cell_type": "code",
   "execution_count": 73,
   "metadata": {},
   "outputs": [
    {
     "name": "stdout",
     "output_type": "stream",
     "text": [
      "shdfhsdJAHSDJAS746234\n",
      "('shdfhsdJAHSDJAS746234',)\n"
     ]
    }
   ],
   "source": [
    "sObj = re.search(\"(\\w+)\",a,re.S) # re.S or re.DOTALL, to include \\n as well in .\n",
    "if sObj:\n",
    "    print(sObj.group())\n",
    "    print(sObj.groups())\n",
    "#     print(sObj.group(1))"
   ]
  },
  {
   "cell_type": "code",
   "execution_count": 83,
   "metadata": {},
   "outputs": [
    {
     "name": "stdout",
     "output_type": "stream",
     "text": [
      "shdfhsdJAHSDJAS746234&@#^%@%#&hsgfhsgdf2135432\n",
      "('shdfhsdJAHSDJAS746234', '&@#^%@%#&', 'hsgfhsgdf', '2135432')\n",
      "hsgfhsgdf\n"
     ]
    }
   ],
   "source": [
    "sObj = re.search(\"(\\w+)(\\W+)([aA-zZ]+)(\\d+)\",a,re.S) # re.S or re.DOTALL, to include \\n as well in .\n",
    "if sObj:\n",
    "    print(sObj.group())\n",
    "    print(sObj.groups())\n",
    "    print(sObj.group(3))"
   ]
  },
  {
   "cell_type": "markdown",
   "metadata": {},
   "source": [
    "# Back referencing"
   ]
  },
  {
   "cell_type": "code",
   "execution_count": 86,
   "metadata": {},
   "outputs": [],
   "source": [
    "a = \"111 222 111 333 222 444 111 \""
   ]
  },
  {
   "cell_type": "code",
   "execution_count": 98,
   "metadata": {},
   "outputs": [
    {
     "name": "stdout",
     "output_type": "stream",
     "text": [
      "111 222 111 333 222 \n"
     ]
    }
   ],
   "source": [
    "sObj = re.search(\"(111 )(222 )(\\\\1)333 \\\\2\",a)\n",
    "if sObj:\n",
    "    print(sObj.group())\n",
    "#     print(sObj.groups())\n",
    "#     print(sObj.group(1))"
   ]
  },
  {
   "cell_type": "markdown",
   "metadata": {},
   "source": [
    "##### Solve previous example using regex"
   ]
  },
  {
   "cell_type": "code",
   "execution_count": 103,
   "metadata": {},
   "outputs": [
    {
     "name": "stdout",
     "output_type": "stream",
     "text": [
      "This is line2\n",
      "\n",
      "This is line4\n",
      "\n",
      "This is line6\n",
      "\n",
      "This is line8\n",
      "\n"
     ]
    }
   ],
   "source": [
    "fh = open(\"test6.txt\")\n",
    "for line in fh:\n",
    "    sObj = re.search(\"[02468]$\",line)\n",
    "    if sObj:\n",
    "        print(line)"
   ]
  },
  {
   "cell_type": "code",
   "execution_count": null,
   "metadata": {},
   "outputs": [],
   "source": []
  }
 ],
 "metadata": {
  "kernelspec": {
   "display_name": "Python 3",
   "language": "python",
   "name": "python3"
  },
  "language_info": {
   "codemirror_mode": {
    "name": "ipython",
    "version": 3
   },
   "file_extension": ".py",
   "mimetype": "text/x-python",
   "name": "python",
   "nbconvert_exporter": "python",
   "pygments_lexer": "ipython3",
   "version": "3.7.4"
  },
  "latex_envs": {
   "LaTeX_envs_menu_present": true,
   "autoclose": false,
   "autocomplete": true,
   "bibliofile": "biblio.bib",
   "cite_by": "apalike",
   "current_citInitial": 1,
   "eqLabelWithNumbers": true,
   "eqNumInitial": 1,
   "hotkeys": {
    "equation": "Ctrl-E",
    "itemize": "Ctrl-I"
   },
   "labels_anchors": false,
   "latex_user_defs": false,
   "report_style_numbering": false,
   "user_envs_cfg": false
  },
  "varInspector": {
   "cols": {
    "lenName": 16,
    "lenType": 16,
    "lenVar": 40
   },
   "kernels_config": {
    "python": {
     "delete_cmd_postfix": "",
     "delete_cmd_prefix": "del ",
     "library": "var_list.py",
     "varRefreshCmd": "print(var_dic_list())"
    },
    "r": {
     "delete_cmd_postfix": ") ",
     "delete_cmd_prefix": "rm(",
     "library": "var_list.r",
     "varRefreshCmd": "cat(var_dic_list()) "
    }
   },
   "types_to_exclude": [
    "module",
    "function",
    "builtin_function_or_method",
    "instance",
    "_Feature"
   ],
   "window_display": false
  }
 },
 "nbformat": 4,
 "nbformat_minor": 2
}
