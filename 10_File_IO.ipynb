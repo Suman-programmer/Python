{
 "cells": [
  {
   "cell_type": "markdown",
   "metadata": {},
   "source": [
    "# File I/O\n",
    "- Definition\n",
    "- Opening file using various modes\n",
    "- Read/Write/Append operations on file\n",
    "- Tell and Seek operations\n",
    "- Some OS related operations\n"
   ]
  },
  {
   "cell_type": "code",
   "execution_count": 1,
   "metadata": {},
   "outputs": [],
   "source": [
    "# Syntax:\n",
    "# open(<file_path>,<mode>)\n",
    "# file_path: Full path or file name if file is present in root dir\n",
    "# mode: r,w,a,r+,w+,a+,rb,wb,ab,rb+,wb+,ab+\n",
    "# r = read only , file must be existing <default mode>\n",
    "# w = write only, file will be created if not present\n",
    "# a = append only, file must be present\n",
    "# b = byte code format\n",
    "# + = read and write both can be done"
   ]
  },
  {
   "cell_type": "code",
   "execution_count": 2,
   "metadata": {},
   "outputs": [
    {
     "name": "stdout",
     "output_type": "stream",
     "text": [
      "<_io.TextIOWrapper name='test1.txt' mode='r' encoding='cp1252'>\n"
     ]
    }
   ],
   "source": [
    "fh = open(\"test1.txt\")\n",
    "# fh = open(\"test1.txt\",\"r\")\n",
    "# fh = open(\"/Users/vigneshkarthick/Downloads/18_Aug/drive-download-20190818T033407Z-001/test1.txt\")\n",
    "# fh = open(r\"C:\\test\\test1.txt\")\n",
    "# fh = open(\"C:\\\\test\\\\test1.txt\")\n",
    "# fh = open(\"C:/test/test1.txt\")\n",
    "print(fh)"
   ]
  },
  {
   "cell_type": "code",
   "execution_count": 3,
   "metadata": {},
   "outputs": [],
   "source": [
    "fh = open(\"test1.txt\")"
   ]
  },
  {
   "cell_type": "code",
   "execution_count": 4,
   "metadata": {},
   "outputs": [
    {
     "data": {
      "text/plain": [
       "'This is '"
      ]
     },
     "execution_count": 4,
     "metadata": {},
     "output_type": "execute_result"
    }
   ],
   "source": [
    "# fh.read() # will read the full content\n",
    "# fh.read(2) # 2 chars at a time\n",
    "fh.readline(8)\n",
    "# fh.readlines()"
   ]
  },
  {
   "cell_type": "markdown",
   "metadata": {},
   "source": [
    "# Tell and Seek\n",
    "tell = current pointer postion\n",
    "\n",
    "seek = will move the pointer position"
   ]
  },
  {
   "cell_type": "code",
   "execution_count": 5,
   "metadata": {},
   "outputs": [],
   "source": [
    "fh = open(\"test1.txt\")"
   ]
  },
  {
   "cell_type": "code",
   "execution_count": 6,
   "metadata": {},
   "outputs": [
    {
     "name": "stdout",
     "output_type": "stream",
     "text": [
      "Thi\n",
      "3\n",
      "s i\n",
      "6\n"
     ]
    }
   ],
   "source": [
    "print(fh.read(3))\n",
    "print(fh.tell())\n",
    "print(fh.read(3))\n",
    "print(fh.tell())"
   ]
  },
  {
   "cell_type": "markdown",
   "metadata": {},
   "source": [
    "### seek"
   ]
  },
  {
   "cell_type": "code",
   "execution_count": 7,
   "metadata": {},
   "outputs": [],
   "source": [
    "# seek(<offset>,<pointer_position>)\n",
    "# offset: how many chars we want to ignore\n",
    "# pointer_position: \n",
    "#     0: starting of the file (set as default )\n",
    "#     1: current pointer position\n",
    "#     2: from the end"
   ]
  },
  {
   "cell_type": "code",
   "execution_count": 8,
   "metadata": {},
   "outputs": [],
   "source": [
    "fh = open(\"test1.txt\")"
   ]
  },
  {
   "cell_type": "code",
   "execution_count": 9,
   "metadata": {},
   "outputs": [
    {
     "name": "stdout",
     "output_type": "stream",
     "text": [
      "Thi\n",
      "3\n",
      "This i\n",
      "6\n",
      " is Line1\n",
      "13\n"
     ]
    }
   ],
   "source": [
    "print(fh.read(3))\n",
    "print(fh.tell())\n",
    "fh.seek(0)\n",
    "print(fh.read(6))\n",
    "print(fh.tell())\n",
    "fh.seek(4)\n",
    "print(fh.read(9))\n",
    "print(fh.tell())"
   ]
  },
  {
   "cell_type": "code",
   "execution_count": null,
   "metadata": {},
   "outputs": [],
   "source": []
  },
  {
   "cell_type": "code",
   "execution_count": 10,
   "metadata": {},
   "outputs": [],
   "source": [
    "fh = open(\"test1.txt\")"
   ]
  },
  {
   "cell_type": "code",
   "execution_count": 11,
   "metadata": {},
   "outputs": [
    {
     "name": "stdout",
     "output_type": "stream",
     "text": [
      "Thi\n",
      "3\n",
      "This i\n",
      "6\n",
      " is Line1\n",
      "13\n"
     ]
    }
   ],
   "source": [
    "print(fh.read(3))\n",
    "print(fh.tell())\n",
    "fh.seek(0,0)\n",
    "print(fh.read(6))\n",
    "print(fh.tell())\n",
    "fh.seek(4,0)\n",
    "print(fh.read(9))\n",
    "print(fh.tell())"
   ]
  },
  {
   "cell_type": "code",
   "execution_count": null,
   "metadata": {},
   "outputs": [],
   "source": []
  },
  {
   "cell_type": "code",
   "execution_count": 12,
   "metadata": {},
   "outputs": [],
   "source": [
    "fh = open(\"test1.txt\",\"rb\")"
   ]
  },
  {
   "cell_type": "code",
   "execution_count": 13,
   "metadata": {},
   "outputs": [
    {
     "name": "stdout",
     "output_type": "stream",
     "text": [
      "b'Thi'\n",
      "3\n",
      "b's is L'\n",
      "9\n",
      "b'\\nThis is '\n",
      "22\n",
      "b' is Line2'\n"
     ]
    }
   ],
   "source": [
    "print(fh.read(3))\n",
    "print(fh.tell())\n",
    "fh.seek(0,1)\n",
    "print(fh.read(6))\n",
    "print(fh.tell())\n",
    "fh.seek(4,1)\n",
    "print(fh.read(9))\n",
    "print(fh.tell())\n",
    "fh.seek(-4,1)\n",
    "print(fh.read(9))"
   ]
  },
  {
   "cell_type": "code",
   "execution_count": 14,
   "metadata": {},
   "outputs": [],
   "source": [
    "fh = open(\"test1.txt\",\"rb\")"
   ]
  },
  {
   "cell_type": "code",
   "execution_count": 15,
   "metadata": {},
   "outputs": [
    {
     "name": "stdout",
     "output_type": "stream",
     "text": [
      "b'This is Line1\\nThis is Line2\\nThis is Line3\\nThis is Line4\\nThis is Line5'\n",
      "69\n",
      "b' is Line5'\n"
     ]
    }
   ],
   "source": [
    "print(fh.read())\n",
    "print(fh.tell())\n",
    "fh.seek(-9,2)\n",
    "print(fh.read(9))"
   ]
  },
  {
   "cell_type": "markdown",
   "metadata": {},
   "source": [
    "# Write"
   ]
  },
  {
   "cell_type": "code",
   "execution_count": 16,
   "metadata": {},
   "outputs": [
    {
     "name": "stderr",
     "output_type": "stream",
     "text": [
      "'ls' is not recognized as an internal or external command,\n",
      "operable program or batch file.\n"
     ]
    }
   ],
   "source": [
    "!ls -al"
   ]
  },
  {
   "cell_type": "code",
   "execution_count": 17,
   "metadata": {},
   "outputs": [],
   "source": [
    "fh = open(\"test2.txt\",\"w\")"
   ]
  },
  {
   "cell_type": "code",
   "execution_count": 18,
   "metadata": {},
   "outputs": [],
   "source": [
    "fh.write(\"This is line1\\n\")\n",
    "fh.write(\"This is line2\\n\")\n",
    "fh.write(\"This is line3\\n\")\n",
    "fh.close()"
   ]
  },
  {
   "cell_type": "markdown",
   "metadata": {},
   "source": [
    "# Append"
   ]
  },
  {
   "cell_type": "code",
   "execution_count": 19,
   "metadata": {},
   "outputs": [],
   "source": [
    "fh = open(\"test4.txt\",\"a\")"
   ]
  },
  {
   "cell_type": "code",
   "execution_count": 20,
   "metadata": {},
   "outputs": [],
   "source": [
    "fh.write(\"This is line9\\n\")\n",
    "fh.write(\"This is line10\\n\")\n",
    "fh.write(\"This is line11\\n\")\n",
    "fh.close()"
   ]
  },
  {
   "cell_type": "markdown",
   "metadata": {},
   "source": [
    "##### With statement, file will get closed automatically"
   ]
  },
  {
   "cell_type": "code",
   "execution_count": 21,
   "metadata": {},
   "outputs": [
    {
     "name": "stdout",
     "output_type": "stream",
     "text": [
      "False\n",
      "True\n"
     ]
    }
   ],
   "source": [
    "with open(\"test5.txt\",\"w\") as fh:\n",
    "    print(fh.closed)\n",
    "    fh.write(\"This is using with statement\")\n",
    "print(fh.closed)\n"
   ]
  },
  {
   "cell_type": "code",
   "execution_count": 22,
   "metadata": {},
   "outputs": [
    {
     "name": "stdout",
     "output_type": "stream",
     "text": [
      "test1.txt\n",
      "r\n",
      "False\n"
     ]
    }
   ],
   "source": [
    "fh = open(\"test1.txt\")\n",
    "print(fh.name)\n",
    "print(fh.mode)\n",
    "print(fh.closed)"
   ]
  },
  {
   "cell_type": "markdown",
   "metadata": {},
   "source": [
    "# using OS commands"
   ]
  },
  {
   "cell_type": "code",
   "execution_count": 23,
   "metadata": {},
   "outputs": [],
   "source": [
    "import os"
   ]
  },
  {
   "cell_type": "code",
   "execution_count": 24,
   "metadata": {},
   "outputs": [
    {
     "data": {
      "text/plain": [
       "'C:\\\\Users\\\\suman\\\\OneDrive\\\\Documents\\\\learnbay\\\\PYTHON'"
      ]
     },
     "execution_count": 24,
     "metadata": {},
     "output_type": "execute_result"
    }
   ],
   "source": [
    "os.getcwd()"
   ]
  },
  {
   "cell_type": "code",
   "execution_count": 25,
   "metadata": {},
   "outputs": [],
   "source": [
    "os.chdir(\"/users/\")"
   ]
  },
  {
   "cell_type": "code",
   "execution_count": 26,
   "metadata": {},
   "outputs": [
    {
     "data": {
      "text/plain": [
       "'C:\\\\users'"
      ]
     },
     "execution_count": 26,
     "metadata": {},
     "output_type": "execute_result"
    }
   ],
   "source": [
    "os.getcwd()"
   ]
  },
  {
   "cell_type": "code",
   "execution_count": 27,
   "metadata": {},
   "outputs": [],
   "source": [
    "os.chdir(\"/Users/suman/Downloads/\")"
   ]
  },
  {
   "cell_type": "code",
   "execution_count": 28,
   "metadata": {},
   "outputs": [
    {
     "data": {
      "text/plain": [
       "'C:\\\\Users\\\\suman\\\\Downloads'"
      ]
     },
     "execution_count": 28,
     "metadata": {},
     "output_type": "execute_result"
    }
   ],
   "source": [
    "os.getcwd()"
   ]
  },
  {
   "cell_type": "code",
   "execution_count": 29,
   "metadata": {},
   "outputs": [],
   "source": [
    "os.mkdir(\"Test_dir1\")"
   ]
  },
  {
   "cell_type": "code",
   "execution_count": 30,
   "metadata": {},
   "outputs": [
    {
     "name": "stderr",
     "output_type": "stream",
     "text": [
      "'ls' is not recognized as an internal or external command,\n",
      "operable program or batch file.\n"
     ]
    }
   ],
   "source": [
    "!ls -al"
   ]
  },
  {
   "cell_type": "code",
   "execution_count": 31,
   "metadata": {},
   "outputs": [],
   "source": [
    "os.rmdir(\"Test_dir1\")"
   ]
  },
  {
   "cell_type": "code",
   "execution_count": 32,
   "metadata": {},
   "outputs": [
    {
     "name": "stdout",
     "output_type": "stream",
     "text": [
      "\n"
     ]
    }
   ],
   "source": [
    "print(os.popen(\"ls -al\").read())"
   ]
  },
  {
   "cell_type": "code",
   "execution_count": 35,
   "metadata": {},
   "outputs": [],
   "source": [
    "#os.listdir()"
   ]
  },
  {
   "cell_type": "code",
   "execution_count": 34,
   "metadata": {},
   "outputs": [
    {
     "name": "stderr",
     "output_type": "stream",
     "text": [
      "'ls' is not recognized as an internal or external command,\n",
      "operable program or batch file.\n"
     ]
    }
   ],
   "source": [
    "!ls -al"
   ]
  }
 ],
 "metadata": {
  "kernelspec": {
   "display_name": "Python 3",
   "language": "python",
   "name": "python3"
  },
  "language_info": {
   "codemirror_mode": {
    "name": "ipython",
    "version": 3
   },
   "file_extension": ".py",
   "mimetype": "text/x-python",
   "name": "python",
   "nbconvert_exporter": "python",
   "pygments_lexer": "ipython3",
   "version": "3.7.4"
  }
 },
 "nbformat": 4,
 "nbformat_minor": 2
}
